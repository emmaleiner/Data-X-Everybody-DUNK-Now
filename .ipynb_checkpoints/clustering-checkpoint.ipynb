{
 "cells": [
  {
   "cell_type": "markdown",
   "metadata": {},
   "source": [
    "# Clustering 2D Basketball Poses"
   ]
  },
  {
   "cell_type": "code",
   "execution_count": 1,
   "metadata": {
    "scrolled": true
   },
   "outputs": [],
   "source": [
    "import json\n",
    "import os\n",
    "import glob\n",
    "import numpy as np\n",
    "import pandas as pd\n",
    "import pdb\n",
    "from tempfile import NamedTemporaryFile\n",
    "from IPython.display import HTML\n",
    "from matplotlib import animation\n",
    "import imageio\n",
    "import matplotlib.pyplot as plt\n",
    "import tempfile\n",
    "import random\n",
    "import os\n",
    "%matplotlib inline"
   ]
  },
  {
   "cell_type": "code",
   "execution_count": 11,
   "metadata": {},
   "outputs": [],
   "source": [
    "## setting up some file location info.\n",
    "#label_rootdir = '../project resources/labels/{}/{}/{}/{}.json'\n",
    "#image_rootdir = '../project resources/frames/{}/{}/{}/{}'\n",
    "coco_joint_names = [\n",
    "        'R Ankle', 'R Knee', 'R Hip', 'L Hip', 'L Knee', 'L Ankle', 'R Wrist',\n",
    "        'R Elbow', 'R Shoulder', 'L Shoulder', 'L Elbow', 'L Wrist', 'Neck',\n",
    "        'Head', 'Nose', 'L Eye', 'R Eye', 'L Ear', 'R Ear'\n",
    "    ]\n",
    "\n",
    "label_rootdir = '../project resources/labels'\n",
    "json_list = []\n",
    "#for game_code in os.listdir(label_rootdir):\n",
    "game_code = '1571133'\n",
    "for shot_type in [\"made\", \"miss\"]:\n",
    "    for sequence in os.listdir(os.path.join(label_rootdir, game_code, shot_type)):\n",
    "        for frame in os.listdir(os.path.join(label_rootdir, game_code, shot_type, sequence)):\n",
    "            json_file_path = os.path.join(label_rootdir, game_code, shot_type, sequence, frame)\n",
    "            json_list.append(json_file_path)"
   ]
  },
  {
   "cell_type": "markdown",
   "metadata": {},
   "source": [
    "#  Clustering"
   ]
  },
  {
   "cell_type": "markdown",
   "metadata": {},
   "source": [
    "Creating training set..."
   ]
  },
  {
   "cell_type": "code",
   "execution_count": 13,
   "metadata": {},
   "outputs": [],
   "source": [
    "df_features = []\n",
    "for joint in coco_joint_names:\n",
    "    df_features.append(f\"{joint}x\")\n",
    "    df_features.append(f\"{joint}y\")\n",
    "df = pd.DataFrame(columns=df_features)\n",
    "for label_file in json_list:\n",
    "    with open(label_file, 'rb') as f:\n",
    "        label = json.load(f)\n",
    "    new_line = []\n",
    "    for joint in coco_joint_names:\n",
    "        new_line.append(label[joint]['x'])\n",
    "        new_line.append(label[joint]['y'])\n",
    "    df = df.append(pd.DataFrame([new_line], columns=df_features))\n",
    "df = df.reset_index().drop(['index'], axis=1)"
   ]
  },
  {
   "cell_type": "markdown",
   "metadata": {},
   "source": [
    "Running clustering..."
   ]
  },
  {
   "cell_type": "code",
   "execution_count": 15,
   "metadata": {},
   "outputs": [
    {
     "data": {
      "text/plain": [
       "302632"
      ]
     },
     "execution_count": 15,
     "metadata": {},
     "output_type": "execute_result"
    }
   ],
   "source": [
    "df.size"
   ]
  },
  {
   "cell_type": "code",
   "execution_count": 16,
   "metadata": {},
   "outputs": [
    {
     "data": {
      "text/plain": [
       "KMeans(algorithm='auto', copy_x=True, init='k-means++', max_iter=300,\n",
       "    n_clusters=30, n_init=10, n_jobs=1, precompute_distances='auto',\n",
       "    random_state=0, tol=0.0001, verbose=0)"
      ]
     },
     "execution_count": 16,
     "metadata": {},
     "output_type": "execute_result"
    }
   ],
   "source": [
    "from sklearn.cluster import KMeans\n",
    "from sklearn.model_selection import train_test_split\n",
    "\n",
    "X = df[['R Anklex', 'R Ankley', 'R Kneex', 'R Kneey', 'R Hipx', 'R Hipy',\n",
    "       'L Hipx', 'L Hipy', 'L Kneex', 'L Kneey', 'L Anklex', 'L Ankley',\n",
    "       'R Wristx', 'R Wristy', 'R Elbowx', 'R Elbowy', 'R Shoulderx',\n",
    "       'R Shouldery', 'L Shoulderx', 'L Shouldery', 'L Elbowx', 'L Elbowy',\n",
    "       'L Wristx', 'L Wristy', 'Neckx', 'Necky', 'Headx', 'Heady']]\n",
    "x_train, x_test = train_test_split(X, test_size=0.2)\n",
    "\n",
    "kmeans = KMeans(n_clusters=30, random_state=0)\n",
    "kmeans.fit(X)"
   ]
  }
 ],
 "metadata": {
  "kernelspec": {
   "display_name": "Python 3",
   "language": "python",
   "name": "python3"
  },
  "language_info": {
   "codemirror_mode": {
    "name": "ipython",
    "version": 3
   },
   "file_extension": ".py",
   "mimetype": "text/x-python",
   "name": "python",
   "nbconvert_exporter": "python",
   "pygments_lexer": "ipython3",
   "version": "3.5.2"
  }
 },
 "nbformat": 4,
 "nbformat_minor": 2
}
