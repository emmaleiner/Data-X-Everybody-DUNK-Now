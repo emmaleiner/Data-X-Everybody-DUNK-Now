{
 "cells": [
  {
   "cell_type": "markdown",
   "metadata": {},
   "source": [
    "# Clustering 2D Basketball Poses"
   ]
  },
  {
   "cell_type": "code",
   "execution_count": 1,
   "metadata": {
    "scrolled": true
   },
   "outputs": [],
   "source": [
    "import json\n",
    "import os\n",
    "import glob\n",
    "import numpy as np\n",
    "import pandas as pd\n",
    "import pdb\n",
    "from tempfile import NamedTemporaryFile\n",
    "from IPython.display import HTML\n",
    "from matplotlib import animation\n",
    "import imageio\n",
    "import matplotlib.pyplot as plt\n",
    "import tempfile\n",
    "import random\n",
    "import os\n",
    "%matplotlib inline"
   ]
  },
  {
   "cell_type": "code",
   "execution_count": 47,
   "metadata": {},
   "outputs": [
    {
     "name": "stdout",
     "output_type": "stream",
     "text": [
      "done?\n"
     ]
    }
   ],
   "source": [
    "## setting up some file location info.\n",
    "#label_rootdir = '../project resources/labels/{}/{}/{}/{}.json'\n",
    "#image_rootdir = '../project resources/frames/{}/{}/{}/{}'\n",
    "coco_joint_names = [\n",
    "        'R Ankle', 'R Knee', 'R Hip', 'L Hip', 'L Knee', 'L Ankle', 'R Wrist',\n",
    "        'R Elbow', 'R Shoulder', 'L Shoulder', 'L Elbow', 'L Wrist', 'Neck',\n",
    "        'Head', 'Nose', 'L Eye', 'R Eye', 'L Ear', 'R Ear'\n",
    "    ]\n",
    "\n",
    "label_rootdir = '/data0/temp_nba/labels'\n",
    "json_list = []\n",
    "#for game_code in os.listdir(label_rootdir):\n",
    "game_code = '1571133'\n",
    "for shot_type in [\"made\", \"miss\"]:\n",
    "    for sequence in sorted(os.listdir(os.path.join(label_rootdir, game_code, shot_type))):\n",
    "        for frame in sorted(os.listdir(os.path.join(label_rootdir, game_code, shot_type, sequence)))[20:160:10]:\n",
    "            json_file_path = os.path.join(label_rootdir, game_code, shot_type, sequence, frame)\n",
    "            json_list.append(json_file_path)\n",
    "print('done?')"
   ]
  },
  {
   "cell_type": "code",
   "execution_count": 22,
   "metadata": {},
   "outputs": [
    {
     "data": {
      "text/plain": [
       "['180428034.json',\n",
       " '180428035.json',\n",
       " '180428036.json',\n",
       " '180428037.json',\n",
       " '180428038.json',\n",
       " '180428039.json',\n",
       " '180428040.json',\n",
       " '180428041.json',\n",
       " '180428042.json',\n",
       " '180428043.json',\n",
       " '180428044.json',\n",
       " '180428045.json',\n",
       " '180428046.json',\n",
       " '180428047.json',\n",
       " '180428048.json',\n",
       " '180428049.json',\n",
       " '180428050.json',\n",
       " '180428051.json',\n",
       " '180428052.json',\n",
       " '180428053.json',\n",
       " '180428054.json',\n",
       " '180428055.json',\n",
       " '180428056.json',\n",
       " '180428057.json',\n",
       " '180428058.json',\n",
       " '180428059.json',\n",
       " '180428060.json',\n",
       " '180428061.json',\n",
       " '180428062.json',\n",
       " '180428063.json',\n",
       " '180428064.json',\n",
       " '180428065.json',\n",
       " '180428066.json',\n",
       " '180428067.json',\n",
       " '180428068.json',\n",
       " '180428069.json',\n",
       " '180428070.json',\n",
       " '180428071.json',\n",
       " '180428072.json',\n",
       " '180428073.json',\n",
       " '180428074.json',\n",
       " '180428075.json',\n",
       " '180428076.json',\n",
       " '180428077.json',\n",
       " '180428078.json',\n",
       " '180428079.json',\n",
       " '180428080.json',\n",
       " '180428081.json',\n",
       " '180428082.json',\n",
       " '180428083.json',\n",
       " '180428084.json',\n",
       " '180428085.json',\n",
       " '180428086.json',\n",
       " '180428087.json',\n",
       " '180428088.json',\n",
       " '180428089.json',\n",
       " '180428090.json',\n",
       " '180428091.json',\n",
       " '180428092.json',\n",
       " '180428093.json',\n",
       " '180428094.json',\n",
       " '180428095.json',\n",
       " '180428096.json',\n",
       " '180428097.json',\n",
       " '180428098.json',\n",
       " '180428099.json',\n",
       " '180428100.json',\n",
       " '180428101.json',\n",
       " '180428102.json',\n",
       " '180428103.json',\n",
       " '180428104.json',\n",
       " '180428105.json',\n",
       " '180428106.json',\n",
       " '180428107.json',\n",
       " '180428108.json',\n",
       " '180428109.json',\n",
       " '180428110.json',\n",
       " '180428111.json',\n",
       " '180428112.json',\n",
       " '180428113.json',\n",
       " '180428114.json',\n",
       " '180428115.json',\n",
       " '180428116.json',\n",
       " '180428117.json',\n",
       " '180428118.json',\n",
       " '180428119.json',\n",
       " '180428120.json',\n",
       " '180428121.json',\n",
       " '180428122.json',\n",
       " '180428123.json',\n",
       " '180428124.json',\n",
       " '180428125.json',\n",
       " '180428126.json',\n",
       " '180428127.json',\n",
       " '180428128.json',\n",
       " '180428129.json',\n",
       " '180428130.json',\n",
       " '180428131.json',\n",
       " '180428132.json',\n",
       " '180428133.json',\n",
       " '180428134.json',\n",
       " '180428135.json',\n",
       " '180428136.json',\n",
       " '180428137.json',\n",
       " '180428138.json',\n",
       " '180428139.json',\n",
       " '180428140.json',\n",
       " '180428141.json',\n",
       " '180428142.json',\n",
       " '180428143.json',\n",
       " '180428144.json',\n",
       " '180428145.json',\n",
       " '180428146.json',\n",
       " '180428147.json',\n",
       " '180428148.json',\n",
       " '180428149.json',\n",
       " '180428150.json',\n",
       " '180428151.json',\n",
       " '180428152.json',\n",
       " '180428153.json',\n",
       " '180428154.json',\n",
       " '180428155.json',\n",
       " '180428156.json',\n",
       " '180428157.json',\n",
       " '180428158.json',\n",
       " '180428159.json',\n",
       " '180428160.json',\n",
       " '180428161.json',\n",
       " '180428162.json',\n",
       " '180428163.json',\n",
       " '180428164.json',\n",
       " '180428165.json',\n",
       " '180428166.json',\n",
       " '180428167.json',\n",
       " '180428168.json',\n",
       " '180428169.json',\n",
       " '180428170.json',\n",
       " '180428171.json',\n",
       " '180428172.json',\n",
       " '180428173.json',\n",
       " '180428174.json',\n",
       " '180428175.json',\n",
       " '180428176.json',\n",
       " '180428177.json',\n",
       " '180428178.json',\n",
       " '180428179.json',\n",
       " '180428180.json',\n",
       " '180428181.json',\n",
       " '180428182.json',\n",
       " '180428183.json',\n",
       " '180428184.json',\n",
       " '180428185.json',\n",
       " '180428186.json',\n",
       " '180428187.json',\n",
       " '180428188.json',\n",
       " '180428189.json',\n",
       " '180428190.json',\n",
       " '180428191.json',\n",
       " '180428192.json',\n",
       " '180428193.json',\n",
       " '180428194.json',\n",
       " '180428195.json',\n",
       " '180428196.json',\n",
       " '180428197.json',\n",
       " '180428198.json',\n",
       " '180428199.json',\n",
       " '180428200.json',\n",
       " '180428201.json',\n",
       " '180428202.json',\n",
       " '180428203.json',\n",
       " '180428204.json',\n",
       " '180428205.json',\n",
       " '180428206.json',\n",
       " '180428207.json',\n",
       " '180428208.json',\n",
       " '180428209.json',\n",
       " '180428210.json',\n",
       " '180428211.json',\n",
       " '180428212.json',\n",
       " '180428213.json',\n",
       " '180428214.json']"
      ]
     },
     "execution_count": 22,
     "metadata": {},
     "output_type": "execute_result"
    }
   ],
   "source": [
    "sorted(os.listdir(os.path.join(label_rootdir, game_code, shot_type, sequence)))"
   ]
  },
  {
   "cell_type": "markdown",
   "metadata": {},
   "source": [
    "#  Clustering"
   ]
  },
  {
   "cell_type": "markdown",
   "metadata": {},
   "source": [
    "Creating training set..."
   ]
  },
  {
   "cell_type": "code",
   "execution_count": 62,
   "metadata": {},
   "outputs": [
    {
     "name": "stdout",
     "output_type": "stream",
     "text": [
      "done?\n"
     ]
    }
   ],
   "source": [
    "joint_list = ['Head','Neck','L Ankle','L Elbow','L Hip','L Knee','L Shoulder','L Wrist','R Ankle','R Elbow','R Hip','R Knee','R Shoulder','R Wrist']\n",
    "xy = []\n",
    "for label_file in json_list:\n",
    "    with open(label_file,'r') as f:\n",
    "        label = json.load(f)\n",
    "    x = [label[j]['x'] for j in joint_list]\n",
    "    y = [label[j]['y'] for j in joint_list]\n",
    "    ## center and scale the pose..\n",
    "    x_hip = (x[joint_list.index('L Hip')]+x[joint_list.index('R Hip')])/2.\n",
    "    y_hip = (y[joint_list.index('L Hip')]+y[joint_list.index('R Hip')])/2.\n",
    "    scale = max(y)-min(y)\n",
    "    x = [(xi-x_hip)/scale for xi in x]\n",
    "    y = [(yi-y_hip)/scale for yi in y]\n",
    "    \n",
    "    xy.append(x+y)\n",
    "print('done?')"
   ]
  },
  {
   "cell_type": "code",
   "execution_count": 61,
   "metadata": {},
   "outputs": [
    {
     "data": {
      "text/plain": [
       "0.0"
      ]
     },
     "execution_count": 61,
     "metadata": {},
     "output_type": "execute_result"
    }
   ],
   "source": [
    "(y[joint_list.index('L Hip')]+y[joint_list.index('R Hip')])/2."
   ]
  },
  {
   "cell_type": "code",
   "execution_count": 68,
   "metadata": {},
   "outputs": [
    {
     "data": {
      "text/plain": [
       "KMeans(algorithm='auto', copy_x=True, init='k-means++', max_iter=300,\n",
       "    n_clusters=30, n_init=10, n_jobs=None, precompute_distances='auto',\n",
       "    random_state=0, tol=0.0001, verbose=0)"
      ]
     },
     "execution_count": 68,
     "metadata": {},
     "output_type": "execute_result"
    }
   ],
   "source": [
    "from sklearn.cluster import KMeans\n",
    "from sklearn.model_selection import train_test_split\n",
    "\n",
    "x_train, x_test = train_test_split(xy, test_size=0.2)\n",
    "\n",
    "kmeans = KMeans(n_clusters=30, random_state=0)\n",
    "kmeans.fit(xy)"
   ]
  },
  {
   "cell_type": "code",
   "execution_count": 85,
   "metadata": {},
   "outputs": [
    {
     "data": {
      "text/plain": [
       "[-1, 1, 1, -1]"
      ]
     },
     "execution_count": 85,
     "metadata": {},
     "output_type": "execute_result"
    },
    {
     "data": {
      "image/png": "[encoded data removed]",
      "text/plain": [
       "<Figure size 432x288 with 1 Axes>"
      ]
     },
     "metadata": {
      "needs_background": "light"
     },
     "output_type": "display_data"
    }
   ],
   "source": [
    "## plot a skeleton\n",
    "skel = np.reshape(kmeans.cluster_centers_[4],(2,-1))\n",
    "plt.plot(skel[0],skel[1],'ro')\n",
    "plt.plot(skel[0][0:2],skel[1][0:2],'b-')\n",
    "# left leg\n",
    "plt.plot(skel[0][np.array([2,5])],skel[1][np.array([2,5])],'b-')\n",
    "plt.plot(skel[0][np.array([4,5])],skel[1][np.array([4,5])],'b-')\n",
    "# right leg\n",
    "plt.plot(skel[0][np.array([8,11])],skel[1][np.array([8,11])],'b-')\n",
    "plt.plot(skel[0][np.array([10,11])],skel[1][np.array([10,11])],'b-')\n",
    "# left arm\n",
    "plt.plot(skel[0][np.array([3,7])],skel[1][np.array([3,7])],'b-')\n",
    "plt.plot(skel[0][np.array([3,6])],skel[1][np.array([3,6])],'b-')\n",
    "# right arm\n",
    "plt.plot(skel[0][np.array([9,12])],skel[1][np.array([9,])],'b-')\n",
    "plt.plot(skel[0][np.array([3,6])],skel[1][np.array([3,6])],'b-')\n",
    "plt.axis([-1, 1, 1,-1])"
   ]
  },
  {
   "cell_type": "code",
   "execution_count": 41,
   "metadata": {},
   "outputs": [
    {
     "data": {
      "text/plain": [
       "array([515.60810811, 516.36486486, 531.86486486, 536.48648649,\n",
       "       523.97297297, 532.37837838, 528.43243243, 534.40540541,\n",
       "       512.62162162, 508.83783784, 508.45945946, 513.2972973 ,\n",
       "       505.45945946, 512.83783784, 196.47297297, 212.89189189,\n",
       "       319.13513514, 226.94594595, 256.91891892, 286.05405405,\n",
       "       215.83783784, 229.02702703, 321.05405405, 220.18918919,\n",
       "       254.18918919, 287.27027027, 218.32432432, 218.13513514])"
      ]
     },
     "execution_count": 41,
     "metadata": {},
     "output_type": "execute_result"
    }
   ],
   "source": [
    "kmeans.cluster_centers_[0]"
   ]
  },
  {
   "cell_type": "code",
   "execution_count": 20,
   "metadata": {},
   "outputs": [
    {
     "ename": "SyntaxError",
     "evalue": "invalid syntax (<ipython-input-20-4cc4a4780658>, line 3)",
     "output_type": "error",
     "traceback": [
      "\u001b[0;36m  File \u001b[0;32m\"<ipython-input-20-4cc4a4780658>\"\u001b[0;36m, line \u001b[0;32m3\u001b[0m\n\u001b[0;31m    df_features.append(f\"{joint}x\")\u001b[0m\n\u001b[0m                                 ^\u001b[0m\n\u001b[0;31mSyntaxError\u001b[0m\u001b[0;31m:\u001b[0m invalid syntax\n"
     ]
    }
   ],
   "source": [
    "df_features = []\n",
    "for joint in coco_joint_names:\n",
    "    df_features.append(f\"{joint}x\")\n",
    "    df_features.append(f\"{joint}y\")\n",
    "df = pd.DataFrame(columns=df_features)\n",
    "for label_file in json_list:\n",
    "    with open(label_file, 'rb') as f:\n",
    "        label = json.load(f)\n",
    "    new_line = []\n",
    "    for joint in coco_joint_names:\n",
    "        new_line.append(label[joint]['x'])\n",
    "        new_line.append(label[joint]['y'])\n",
    "    df = df.append(pd.DataFrame([new_line], columns=df_features))\n",
    "df = df.reset_index().drop(['index'], axis=1)\n",
    "print('done??')"
   ]
  },
  {
   "cell_type": "markdown",
   "metadata": {},
   "source": [
    "Running clustering..."
   ]
  },
  {
   "cell_type": "code",
   "execution_count": 15,
   "metadata": {},
   "outputs": [
    {
     "data": {
      "text/plain": [
       "302632"
      ]
     },
     "execution_count": 15,
     "metadata": {},
     "output_type": "execute_result"
    }
   ],
   "source": [
    "df.size"
   ]
  },
  {
   "cell_type": "code",
   "execution_count": 16,
   "metadata": {},
   "outputs": [
    {
     "data": {
      "text/plain": [
       "KMeans(algorithm='auto', copy_x=True, init='k-means++', max_iter=300,\n",
       "    n_clusters=30, n_init=10, n_jobs=1, precompute_distances='auto',\n",
       "    random_state=0, tol=0.0001, verbose=0)"
      ]
     },
     "execution_count": 16,
     "metadata": {},
     "output_type": "execute_result"
    }
   ],
   "source": [
    "from sklearn.cluster import KMeans\n",
    "from sklearn.model_selection import train_test_split\n",
    "\n",
    "X = df[['R Anklex', 'R Ankley', 'R Kneex', 'R Kneey', 'R Hipx', 'R Hipy',\n",
    "       'L Hipx', 'L Hipy', 'L Kneex', 'L Kneey', 'L Anklex', 'L Ankley',\n",
    "       'R Wristx', 'R Wristy', 'R Elbowx', 'R Elbowy', 'R Shoulderx',\n",
    "       'R Shouldery', 'L Shoulderx', 'L Shouldery', 'L Elbowx', 'L Elbowy',\n",
    "       'L Wristx', 'L Wristy', 'Neckx', 'Necky', 'Headx', 'Heady']]\n",
    "x_train, x_test = train_test_split(X, test_size=0.2)\n",
    "\n",
    "kmeans = KMeans(n_clusters=30, random_state=0)\n",
    "kmeans.fit(X)"
   ]
  }
 ],
 "metadata": {
  "kernelspec": {
   "display_name": "Python 3",
   "language": "python",
   "name": "python3"
  },
  "language_info": {
   "codemirror_mode": {
    "name": "ipython",
    "version": 3
   },
   "file_extension": ".py",
   "mimetype": "text/x-python",
   "name": "python",
   "nbconvert_exporter": "python",
   "pygments_lexer": "ipython3",
   "version": "3.5.2"
  }
 },
 "nbformat": 4,
 "nbformat_minor": 2
}
